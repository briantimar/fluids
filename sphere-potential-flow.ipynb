{
 "cells": [
  {
   "cell_type": "markdown",
   "id": "13291f49",
   "metadata": {},
   "source": [
    "Streamlines around a sphere - incompressible ideal potential flow.\n",
    "\n",
    "Fluid moves in the positive z direction, plot is a projection into the xz plane."
   ]
  },
  {
   "cell_type": "code",
   "execution_count": null,
   "id": "9ff24a70",
   "metadata": {},
   "outputs": [],
   "source": [
    "import numpy as np\n",
    "import matplotlib.pyplot as plt\n",
    "from mpl_toolkits.mplot3d import Axes3D\n",
    "\n",
    "rmax = 3\n",
    "\n",
    "x = np.linspace(-rmax, rmax, 400)\n",
    "z = np.linspace(-rmax, rmax, 400)\n",
    "X,Z = np.meshgrid(x,z)\n",
    "\n",
    "R = np.sqrt(X**2 + Z**2)\n",
    "\n",
    "R[R <= 1] = np.nan\n",
    "\n",
    "# Vector field components\n",
    "Vz = 1 + 1 / (2 * (R**3))\n",
    "Vx = -(3/2) * Z * X / R**5\n",
    "\n",
    "nline = 50\n",
    "start_points = np.asarray(list(zip(np.linspace(-3, 3, nline), -3 * np.ones(nline)))+list(zip(np.linspace(-3, 3, nline), 3 * np.ones(nline))))\n",
    "\n",
    "fig, ax = plt.subplots()\n",
    "\n",
    "\n",
    "ax.set_xlim(-3, 3)\n",
    "ax.set_ylim(-3, 3)\n",
    "# Then set the aspect ratio\n",
    "ax.set_aspect('equal')\n",
    "\n",
    "ax.streamplot(X, Z, Vx, Vz, density=10, broken_streamlines=False, start_points=start_points)\n",
    "plt.title('sphere flow')\n",
    "plt.xlabel('x')\n",
    "plt.ylabel('z')\n",
    "plt.axhline(0, color='black', linewidth=0.5)\n",
    "plt.axvline(0, color='black', linewidth=0.5)\n",
    "plt.grid(True)\n",
    "plt.show()"
   ]
  },
  {
   "cell_type": "code",
   "execution_count": null,
   "id": "8ec72e56-4b84-42a6-92be-b8351f4bd77e",
   "metadata": {},
   "outputs": [],
   "source": []
  }
 ],
 "metadata": {
  "kernelspec": {
   "display_name": "Python 3 (ipykernel)",
   "language": "python",
   "name": "python3"
  },
  "language_info": {
   "codemirror_mode": {
    "name": "ipython",
    "version": 3
   },
   "file_extension": ".py",
   "mimetype": "text/x-python",
   "name": "python",
   "nbconvert_exporter": "python",
   "pygments_lexer": "ipython3",
   "version": "3.8.19"
  }
 },
 "nbformat": 4,
 "nbformat_minor": 5
}
